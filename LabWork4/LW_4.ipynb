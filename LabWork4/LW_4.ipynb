{
  "cells": [
    {
      "cell_type": "markdown",
      "id": "b6b59c22",
      "metadata": {
        "id": "b6b59c22"
      },
      "source": [
        "Hi there,\n",
        "One of our brother suggested it is good to have an interactive lesson so here is an attampt for this.\n",
        "\n",
        "In this notebook, we will explain **Data frames** in detail.\n",
        "\n",
        "So each exercises will have few bullet points, with the topics and a sample code.\n",
        "There will be some questions at the end of the notebook which you are supposed to answer them and submit as Lab Work"
      ]
    },
    {
      "cell_type": "code",
      "execution_count": null,
      "id": "add53003",
      "metadata": {
        "scrolled": true,
        "colab": {
          "base_uri": "https://localhost:8080/"
        },
        "id": "add53003",
        "outputId": "bf83e2c2-a34b-44e4-85f8-16b4fd3b49fa"
      },
      "outputs": [
        {
          "output_type": "stream",
          "name": "stdout",
          "text": [
            "Requirement already satisfied: pyspark in /usr/local/lib/python3.10/dist-packages (3.5.1)\n",
            "Requirement already satisfied: py4j==0.10.9.7 in /usr/local/lib/python3.10/dist-packages (from pyspark) (0.10.9.7)\n"
          ]
        }
      ],
      "source": [
        "!pip install pyspark\n",
        "\n",
        "import pyspark\n",
        "from pyspark.sql import SparkSession\n",
        "\n",
        "spark = SparkSession.builder.master('local').appName('Om_Sairam').getOrCreate()"
      ]
    },
    {
      "cell_type": "markdown",
      "id": "4471296f",
      "metadata": {
        "id": "4471296f"
      },
      "source": [
        "# DataFrame\n",
        "- It is basically \"A distributed collection of data grouped into named columns\"\n",
        "- Unlike datasets, dataframes are loosely typed.\n",
        "- One can also create PySpark DataFrame from different data sources like TXT, CSV, JSON, ORV, Avro, Parquet, XML formats by reading from HDFS, and clod platforms\n",
        "- There are multiple ways to create dataframe, the most generic one is using `spark.read`\n",
        "- In our previous assignment, we used `iris_dataset = spark.read.option(\"inferSchema\",\"true\").option(\"header\",\"true\").csv(\"irisdata.csv\")`\n",
        "    - We are telling spark to take the file, infer its schema and also the provided csv has header.\n",
        "- Now we will try to create schema manually."
      ]
    },
    {
      "cell_type": "markdown",
      "id": "8e22f466",
      "metadata": {
        "id": "8e22f466"
      },
      "source": [
        "### Schema\n",
        "- A schema defines the column names and types of a DataFrame\n",
        "- A schema is a `StructType` made up of a number of fields, `StructFields`, that have a name, type, a Boolean flag specifying whether that column can contain missing or null values\n",
        "- One can even insert random metadata in the schema as well."
      ]
    },
    {
      "cell_type": "code",
      "execution_count": null,
      "id": "16c23594",
      "metadata": {
        "id": "16c23594"
      },
      "outputs": [],
      "source": [
        "from pyspark.sql.types import StructType,StructField,FloatType,StringType\n",
        "\n",
        "#Iris DataFrame Headers: p_w;p_l;s_w;s_l;type\n",
        "\n",
        "myManualSchema = StructType([\n",
        "    StructField(\"p_w\", FloatType(), True),\n",
        "    StructField(\"p_l\", FloatType(), True),\n",
        "    StructField(\"s_w\", FloatType(), True),\n",
        "    StructField(\"s_l\", FloatType(), True),\n",
        "    StructField(\"type\", StringType(), True, metadata={\"hello\":\"world\"})\n",
        "])\n",
        "\n",
        "#Now we defined schema, now lets create the data frame and use the above schema\n",
        "iris_df = spark.read.csv(\"/content/iris.csv\", schema=myManualSchema, sep=\",\")\n",
        "\n",
        "iris_df.show()\n",
        "#One can even create dataframe from rdd using createDataFrame method.\n"
      ]
    },
    {
      "cell_type": "markdown",
      "id": "2e82d7e8",
      "metadata": {
        "id": "2e82d7e8"
      },
      "source": [
        "## Columns and Expressions\n",
        "- Columns in Spark are similar to columns in a spreadsheet\n",
        "- It cannot be used outside the context of the DataFrame\n",
        "    - To have a real value in column, we should have `row` which will be inside of `DataFrame`"
      ]
    },
    {
      "cell_type": "code",
      "execution_count": null,
      "id": "9d13ad91",
      "metadata": {
        "id": "9d13ad91"
      },
      "outputs": [],
      "source": [
        "from pyspark.sql.functions import col, column\n",
        "iris_df = spark.read.csv(\"/content/iris.csv\", schema=myManualSchema, sep=\",\")\n",
        "col(\"p_w\")\n",
        "column(\"p_w\")\n",
        "#Different ways of creating columns\n",
        "#If you want to use specific column in a dataframe, df\n",
        "iris_df.col(\"p_w\")#Just eg.\n",
        "iris_df.columns#Displays all the columns"
      ]
    },
    {
      "cell_type": "markdown",
      "id": "c5d14bfd",
      "metadata": {
        "id": "c5d14bfd"
      },
      "source": [
        "### Expressions\n",
        "- An expression is a set of transformations on one or more values in a record in a DataFrame\n",
        "- The `expr()` function is used to express transformations or computations involving DataFrame columns.\n",
        "- If it is bit confusing just remember the following:\n",
        "- **Columns are just expressions.**\n",
        "- **Columns and transformations of those columns compile to the same logical plan as parsed expressions.**"
      ]
    },
    {
      "cell_type": "markdown",
      "id": "c1122afc",
      "metadata": {
        "id": "c1122afc"
      },
      "source": [
        "## Record and Rows\n",
        "- In Spark, each row in a DataFrame is a single record. Spark represents this record as an object of type `Row`\n",
        "- Spark manipulates Row objects using column expressions in order to produce usable values\n",
        "- Row objects internally represent arrays of bytes.\n",
        "- There is abstraction present here, making us to use the column expression to manipulate them.\n",
        "- It’s important to note that only DataFrames have schemas. Rows themselves do not have schemas.\n",
        "- When creating Row manually, one must specify the values in the same order as the schema of the DataFrame to which they might be appended."
      ]
    },
    {
      "cell_type": "code",
      "execution_count": null,
      "id": "1b49f583",
      "metadata": {
        "id": "1b49f583"
      },
      "outputs": [],
      "source": [
        "from pyspark.sql import Row\n",
        "myRow = Row(\"Hello\", None, 1, False)"
      ]
    },
    {
      "cell_type": "code",
      "execution_count": null,
      "id": "e819f9ef",
      "metadata": {
        "id": "e819f9ef",
        "colab": {
          "base_uri": "https://localhost:8080/"
        },
        "outputId": "df89806b-ab03-4de9-bae7-c06b9779c327"
      },
      "outputs": [
        {
          "output_type": "stream",
          "name": "stdout",
          "text": [
            "+-------+---------+----------+\n",
            "|Reg.No.|     Name|       DOB|\n",
            "+-------+---------+----------+\n",
            "|  23352|Aryan Sai|02-05-2000|\n",
            "|  23358|Sai Gopal|09-06-2001|\n",
            "|  23354|  Sai Ram|03-05-2000|\n",
            "|  23355| Sai Syam|09-04-2001|\n",
            "+-------+---------+----------+\n",
            "\n"
          ]
        }
      ],
      "source": [
        "# So let us stich it altogether\n",
        "from pyspark.sql import Row\n",
        "from pyspark.sql.types import StructField, StructType, StringType, LongType\n",
        "myManualSchema = StructType([\n",
        "    StructField(\"Reg.No.\", LongType(), False),\n",
        "    StructField(\"Name\", StringType(), False),\n",
        "    StructField(\"DOB\", StringType(), False)\n",
        "])\n",
        "myRow1 = Row(23352, 'Aryan Sai', '02-05-2000')\n",
        "myRow2 = Row(23358, 'Sai Gopal', '09-06-2001')\n",
        "myRow3 = Row(23354, 'Sai Ram', '03-05-2000')\n",
        "myRow4 = Row(23355, 'Sai Syam', '09-04-2001')\n",
        "myDf = spark.createDataFrame([myRow1,myRow2,myRow3,myRow4], myManualSchema)\n",
        "\n",
        "myDf.show()"
      ]
    },
    {
      "cell_type": "markdown",
      "id": "d0ec17d7",
      "metadata": {
        "id": "d0ec17d7"
      },
      "source": [
        "## Note Worthy Points\n",
        "- By default Spark is case insensitive; one can make Spark case sensitive by setting the configuration:\n",
        "    - `set spark.sql.caseSensitive true`\n",
        "- Sometimes we need to cast the spark columns to different datatypes. It can be done:\n",
        "    - `df.withColumn(\"count2\", col(\"count\").cast(\"long\"))`\n",
        "    - `withColumn` is used to create new columns.\n",
        "- To rename a column, we will use `df.withColumnRenamed(\"OLD_NAME\", \"new_name\")`\n",
        "- Take a guess on how do we drop the columns.\n",
        "- *Remeber to reduce the partition size from 200 to 5*"
      ]
    },
    {
      "cell_type": "code",
      "execution_count": null,
      "id": "ab2bf08e",
      "metadata": {
        "id": "ab2bf08e",
        "colab": {
          "base_uri": "https://localhost:8080/"
        },
        "outputId": "c5794968-80fb-4484-cc9b-f02e6b97fc55"
      },
      "outputs": [
        {
          "output_type": "stream",
          "name": "stdout",
          "text": [
            "+---------+\n",
            "|     Name|\n",
            "+---------+\n",
            "|Aryan Sai|\n",
            "|Sai Gopal|\n",
            "|  Sai Ram|\n",
            "| Sai Syam|\n",
            "+---------+\n",
            "\n"
          ]
        }
      ],
      "source": [
        "myDf.select('Name').show()"
      ]
    },
    {
      "cell_type": "markdown",
      "id": "f064db92",
      "metadata": {
        "id": "f064db92"
      },
      "source": [
        "## Filtering\n",
        "- To filter rows, we create an expression that evaluates to true or false.\n",
        "- The rows, to which the expression is evaluated as false, are *filtered out*\n",
        "- There are two methods to perform this operation: `where` or `filter`"
      ]
    },
    {
      "cell_type": "code",
      "source": [
        "myDf.filter(col(\"Name\") == 'Aryan Sai' ).show()"
      ],
      "metadata": {
        "colab": {
          "base_uri": "https://localhost:8080/"
        },
        "id": "0bO1gn1hGzKt",
        "outputId": "15ffa9a1-ec99-48b0-86e8-257b9dd28399"
      },
      "id": "0bO1gn1hGzKt",
      "execution_count": null,
      "outputs": [
        {
          "output_type": "stream",
          "name": "stdout",
          "text": [
            "+-------+---------+----------+\n",
            "|Reg.No.|     Name|       DOB|\n",
            "+-------+---------+----------+\n",
            "|  23352|Aryan Sai|02-05-2000|\n",
            "+-------+---------+----------+\n",
            "\n"
          ]
        }
      ]
    },
    {
      "cell_type": "code",
      "execution_count": null,
      "id": "05c75dcd",
      "metadata": {
        "id": "05c75dcd",
        "colab": {
          "base_uri": "https://localhost:8080/"
        },
        "outputId": "75398262-e220-4d09-d9e5-d5d48a563567"
      },
      "outputs": [
        {
          "output_type": "stream",
          "name": "stdout",
          "text": [
            "+-------+---------+----------+\n",
            "|Reg.No.|     Name|       DOB|\n",
            "+-------+---------+----------+\n",
            "|  23352|Aryan Sai|02-05-2000|\n",
            "+-------+---------+----------+\n",
            "\n"
          ]
        }
      ],
      "source": [
        "myDf.where(\"Name = 'Aryan Sai'\").show()"
      ]
    },
    {
      "cell_type": "markdown",
      "id": "41d86a15",
      "metadata": {
        "id": "41d86a15"
      },
      "source": [
        "## Unique\n",
        "- A very common use case is to extract the unique or distinct values in a DataFrame\n",
        "- We use `distinct` function for the following.\n",
        "- It is a transformation, so it will return a new data frame with only unique values."
      ]
    },
    {
      "cell_type": "code",
      "execution_count": null,
      "id": "61f9723a",
      "metadata": {
        "id": "61f9723a",
        "colab": {
          "base_uri": "https://localhost:8080/"
        },
        "outputId": "ad3bb134-7af8-47a6-d3a9-a730e898ad73"
      },
      "outputs": [
        {
          "output_type": "execute_result",
          "data": {
            "text/plain": [
              "4"
            ]
          },
          "metadata": {},
          "execution_count": 53
        }
      ],
      "source": [
        "myDf.select(\"Name\", \"DOB\").distinct().count()"
      ]
    },
    {
      "cell_type": "markdown",
      "id": "ae21f47c",
      "metadata": {
        "id": "ae21f47c"
      },
      "source": [
        "## Random\n",
        "- Sometimes, you  just want to sample some random records from your DataFrame.\n",
        "- It can be perofmred using `sample` method on a DataFrame\n",
        "- It is done as follows:"
      ]
    },
    {
      "cell_type": "code",
      "execution_count": null,
      "id": "1048124e",
      "metadata": {
        "id": "1048124e",
        "colab": {
          "base_uri": "https://localhost:8080/"
        },
        "outputId": "e0d03e54-15b4-4808-d2d9-11550d6580d2"
      },
      "outputs": [
        {
          "output_type": "execute_result",
          "data": {
            "text/plain": [
              "2"
            ]
          },
          "metadata": {},
          "execution_count": 54
        }
      ],
      "source": [
        "seed = 5#Seed should be provided for better random behaviour.\n",
        "withReplacement = False\n",
        "fraction = 0.5\n",
        "myDf.sample(withReplacement, fraction, seed).count()"
      ]
    },
    {
      "cell_type": "code",
      "execution_count": null,
      "id": "12900163",
      "metadata": {
        "id": "12900163",
        "colab": {
          "base_uri": "https://localhost:8080/"
        },
        "outputId": "b082982d-ab7c-4a24-e48b-11cd74e9f268"
      },
      "outputs": [
        {
          "output_type": "stream",
          "name": "stdout",
          "text": [
            "+-------+---------+----------+\n",
            "|Reg.No.|     Name|       DOB|\n",
            "+-------+---------+----------+\n",
            "|  23352|Aryan Sai|02-05-2000|\n",
            "|  23358|Sai Gopal|09-06-2001|\n",
            "|  23354|  Sai Ram|03-05-2000|\n",
            "|  23355| Sai Syam|09-04-2001|\n",
            "+-------+---------+----------+\n",
            "\n",
            "+-------+---------+----------+\n",
            "|Reg.No.|     Name|       DOB|\n",
            "+-------+---------+----------+\n",
            "|  23355| Sai Syam|09-04-2001|\n",
            "|  23354|  Sai Ram|03-05-2000|\n",
            "|  23358|Sai Gopal|09-06-2001|\n",
            "|  23352|Aryan Sai|02-05-2000|\n",
            "+-------+---------+----------+\n",
            "\n"
          ]
        }
      ],
      "source": [
        "## Sorting\n",
        "# - To sort a df based on the column, one can use `sort` and `orderBy`\n",
        "# - To more explicitly specify sort direction,use the `asc` and `desc` functions if operating bon a column\n",
        "myDf.sort(myDf['Name'].asc()).show()\n",
        "myDf.sort(myDf['Name'].desc()).show()"
      ]
    },
    {
      "cell_type": "code",
      "execution_count": null,
      "id": "f8df6328",
      "metadata": {
        "id": "f8df6328",
        "colab": {
          "base_uri": "https://localhost:8080/"
        },
        "outputId": "f955e3e4-b3bc-4f1b-c8c9-053088f97f8b"
      },
      "outputs": [
        {
          "output_type": "stream",
          "name": "stdout",
          "text": [
            "+-------+---------+----------+\n",
            "|Reg.No.|     Name|       DOB|\n",
            "+-------+---------+----------+\n",
            "|  23352|Aryan Sai|02-05-2000|\n",
            "|  23358|Sai Gopal|09-06-2001|\n",
            "|  23354|  Sai Ram|03-05-2000|\n",
            "|  23355| Sai Syam|09-04-2001|\n",
            "+-------+---------+----------+\n",
            "\n"
          ]
        }
      ],
      "source": [
        "# myDf.sort(\"Name\").show(5)\n",
        "# myDf.orderBy(\"Name\", \"DOB\").show(5)\n",
        "myDf.orderBy(col(\"Name\"), col(\"DOB\")).show(5)#Also  FIne"
      ]
    },
    {
      "cell_type": "code",
      "execution_count": null,
      "id": "db2960b3",
      "metadata": {
        "id": "db2960b3"
      },
      "outputs": [],
      "source": [
        "#Lab Work\n",
        "# - Use the MTCars data set to answer the folling questions.\n",
        "# 1. Create the dataframe by specifying the Manual Schema\n",
        "# 2. Rename all the columns to something for your liking\n",
        "# 3. Show the distinct cars based on the number of cylinders\n",
        "# 4. Sort the dataframe based on the milage of the car.\n",
        "# 5. Your friend is planning to buy a new car in a pocket friendly manner. So allocate a score to all cars in your data frame\n",
        "#     Eg: - Create a column called `score`.\n",
        "#         - Come up with a formula that provides score, say :\n",
        "#                 - milage is important so 0.2 * value of milage + 0.5 * # of cyl ... so on\n",
        "# 6. Just for Fun add a new Row into the Data frame for Nano\n",
        "#  Details: Nano;Manual;25kmpl;2Cyl;\n"
      ]
    },
    {
      "cell_type": "code",
      "source": [
        "from pyspark.sql.types import StructField, StructType, StringType, LongType, IntegerType,FloatType\n",
        "from pyspark.sql.functions import col, column"
      ],
      "metadata": {
        "id": "YyIbBYoXLBFD"
      },
      "id": "YyIbBYoXLBFD",
      "execution_count": 92,
      "outputs": []
    },
    {
      "cell_type": "code",
      "source": [
        "# 1. Create the dataframe by specifying the Manual Schema\n",
        "carSchema = StructType([\n",
        "    StructField(\"model\", StringType(), False),\n",
        "    StructField(\"mpg\", FloatType(), False),\n",
        "    StructField(\"cyl\", IntegerType(), False),\n",
        "    StructField(\"disp\", FloatType(), False),\n",
        "    StructField(\"hp\", IntegerType(), False),\n",
        "    StructField(\"drat\", FloatType(), False),\n",
        "    StructField(\"wt\", FloatType(), False),\n",
        "    StructField(\"qsec\", FloatType(), False),\n",
        "    StructField(\"vs\", IntegerType(), False),\n",
        "    StructField(\"am\", IntegerType(), False),\n",
        "    StructField(\"gear\", IntegerType(), False),\n",
        "    StructField(\"carb\", IntegerType(), False)\n",
        "])\n",
        "\n",
        "df = spark.read.csv(\"/content/mtcars.csv\",  header=True, schema = carSchema, sep=\",\")\n",
        "\n",
        "df.show()"
      ],
      "metadata": {
        "colab": {
          "base_uri": "https://localhost:8080/"
        },
        "id": "u25tfDHXK6YH",
        "outputId": "8e5a707d-eec5-45fd-ea00-d9e522bd342e"
      },
      "id": "u25tfDHXK6YH",
      "execution_count": 93,
      "outputs": [
        {
          "output_type": "stream",
          "name": "stdout",
          "text": [
            "+-------------------+----+---+-----+---+----+-----+-----+---+---+----+----+\n",
            "|              model| mpg|cyl| disp| hp|drat|   wt| qsec| vs| am|gear|carb|\n",
            "+-------------------+----+---+-----+---+----+-----+-----+---+---+----+----+\n",
            "|          Mazda RX4|21.0|  6|160.0|110| 3.9| 2.62|16.46|  0|  1|   4|   4|\n",
            "|      Mazda RX4 Wag|21.0|  6|160.0|110| 3.9|2.875|17.02|  0|  1|   4|   4|\n",
            "|         Datsun 710|22.8|  4|108.0| 93|3.85| 2.32|18.61|  1|  1|   4|   1|\n",
            "|     Hornet 4 Drive|21.4|  6|258.0|110|3.08|3.215|19.44|  1|  0|   3|   1|\n",
            "|  Hornet Sportabout|18.7|  8|360.0|175|3.15| 3.44|17.02|  0|  0|   3|   2|\n",
            "|            Valiant|18.1|  6|225.0|105|2.76| 3.46|20.22|  1|  0|   3|   1|\n",
            "|         Duster 360|14.3|  8|360.0|245|3.21| 3.57|15.84|  0|  0|   3|   4|\n",
            "|          Merc 240D|24.4|  4|146.7| 62|3.69| 3.19| 20.0|  1|  0|   4|   2|\n",
            "|           Merc 230|22.8|  4|140.8| 95|3.92| 3.15| 22.9|  1|  0|   4|   2|\n",
            "|           Merc 280|19.2|  6|167.6|123|3.92| 3.44| 18.3|  1|  0|   4|   4|\n",
            "|          Merc 280C|17.8|  6|167.6|123|3.92| 3.44| 18.9|  1|  0|   4|   4|\n",
            "|         Merc 450SE|16.4|  8|275.8|180|3.07| 4.07| 17.4|  0|  0|   3|   3|\n",
            "|         Merc 450SL|17.3|  8|275.8|180|3.07| 3.73| 17.6|  0|  0|   3|   3|\n",
            "|        Merc 450SLC|15.2|  8|275.8|180|3.07| 3.78| 18.0|  0|  0|   3|   3|\n",
            "| Cadillac Fleetwood|10.4|  8|472.0|205|2.93| 5.25|17.98|  0|  0|   3|   4|\n",
            "|Lincoln Continental|10.4|  8|460.0|215| 3.0|5.424|17.82|  0|  0|   3|   4|\n",
            "|  Chrysler Imperial|14.7|  8|440.0|230|3.23|5.345|17.42|  0|  0|   3|   4|\n",
            "|           Fiat 128|32.4|  4| 78.7| 66|4.08|  2.2|19.47|  1|  1|   4|   1|\n",
            "|        Honda Civic|30.4|  4| 75.7| 52|4.93|1.615|18.52|  1|  1|   4|   2|\n",
            "|     Toyota Corolla|33.9|  4| 71.1| 65|4.22|1.835| 19.9|  1|  1|   4|   1|\n",
            "+-------------------+----+---+-----+---+----+-----+-----+---+---+----+----+\n",
            "only showing top 20 rows\n",
            "\n"
          ]
        }
      ]
    },
    {
      "cell_type": "code",
      "source": [
        "# 2. Rename all the columns to something for your liking\n",
        "# df = df.withColumnRenamed(\"Model\",\"Mpg\",\"Cyl\",\"Disp\", \"Hp\",\"Drat\", \"Wt\", \"Gsec\", \"VS\", \"Am\",\"Gears\",\"Carbon Emissions\")\n",
        "\n",
        "df = df.withColumnRenamed(\"model\", \"Model\") \\\n",
        "      .withColumnRenamed(\"mpg\", \"Mpg\") \\\n",
        "      .withColumnRenamed(\"cyl\", \"Cyl\") \\\n",
        "      .withColumnRenamed(\"disp\", \"Disp\") \\\n",
        "      .withColumnRenamed(\"hp\", \"Hp\") \\\n",
        "      .withColumnRenamed(\"drat\", \"Drat\") \\\n",
        "      .withColumnRenamed(\"wt\", \"Wt\") \\\n",
        "      .withColumnRenamed(\"qsec\", \"Gsec\") \\\n",
        "      .withColumnRenamed(\"vs\", \"VS\") \\\n",
        "      .withColumnRenamed(\"am\", \"Am\") \\\n",
        "      .withColumnRenamed(\"gear\", \"Gears\") \\\n",
        "      .withColumnRenamed(\"carb\", \"Carbon Emissions\")\n",
        "\n",
        "df.show()"
      ],
      "metadata": {
        "id": "nGWCVOkuMUmP",
        "colab": {
          "base_uri": "https://localhost:8080/"
        },
        "outputId": "1f402fce-56ce-48cd-ef9f-e58be42a61be"
      },
      "id": "nGWCVOkuMUmP",
      "execution_count": 94,
      "outputs": [
        {
          "output_type": "stream",
          "name": "stdout",
          "text": [
            "+-------------------+----+---+-----+---+----+-----+-----+---+---+-----+----------------+\n",
            "|              Model| Mpg|Cyl| Disp| Hp|Drat|   Wt| Gsec| VS| Am|Gears|Carbon Emissions|\n",
            "+-------------------+----+---+-----+---+----+-----+-----+---+---+-----+----------------+\n",
            "|          Mazda RX4|21.0|  6|160.0|110| 3.9| 2.62|16.46|  0|  1|    4|               4|\n",
            "|      Mazda RX4 Wag|21.0|  6|160.0|110| 3.9|2.875|17.02|  0|  1|    4|               4|\n",
            "|         Datsun 710|22.8|  4|108.0| 93|3.85| 2.32|18.61|  1|  1|    4|               1|\n",
            "|     Hornet 4 Drive|21.4|  6|258.0|110|3.08|3.215|19.44|  1|  0|    3|               1|\n",
            "|  Hornet Sportabout|18.7|  8|360.0|175|3.15| 3.44|17.02|  0|  0|    3|               2|\n",
            "|            Valiant|18.1|  6|225.0|105|2.76| 3.46|20.22|  1|  0|    3|               1|\n",
            "|         Duster 360|14.3|  8|360.0|245|3.21| 3.57|15.84|  0|  0|    3|               4|\n",
            "|          Merc 240D|24.4|  4|146.7| 62|3.69| 3.19| 20.0|  1|  0|    4|               2|\n",
            "|           Merc 230|22.8|  4|140.8| 95|3.92| 3.15| 22.9|  1|  0|    4|               2|\n",
            "|           Merc 280|19.2|  6|167.6|123|3.92| 3.44| 18.3|  1|  0|    4|               4|\n",
            "|          Merc 280C|17.8|  6|167.6|123|3.92| 3.44| 18.9|  1|  0|    4|               4|\n",
            "|         Merc 450SE|16.4|  8|275.8|180|3.07| 4.07| 17.4|  0|  0|    3|               3|\n",
            "|         Merc 450SL|17.3|  8|275.8|180|3.07| 3.73| 17.6|  0|  0|    3|               3|\n",
            "|        Merc 450SLC|15.2|  8|275.8|180|3.07| 3.78| 18.0|  0|  0|    3|               3|\n",
            "| Cadillac Fleetwood|10.4|  8|472.0|205|2.93| 5.25|17.98|  0|  0|    3|               4|\n",
            "|Lincoln Continental|10.4|  8|460.0|215| 3.0|5.424|17.82|  0|  0|    3|               4|\n",
            "|  Chrysler Imperial|14.7|  8|440.0|230|3.23|5.345|17.42|  0|  0|    3|               4|\n",
            "|           Fiat 128|32.4|  4| 78.7| 66|4.08|  2.2|19.47|  1|  1|    4|               1|\n",
            "|        Honda Civic|30.4|  4| 75.7| 52|4.93|1.615|18.52|  1|  1|    4|               2|\n",
            "|     Toyota Corolla|33.9|  4| 71.1| 65|4.22|1.835| 19.9|  1|  1|    4|               1|\n",
            "+-------------------+----+---+-----+---+----+-----+-----+---+---+-----+----------------+\n",
            "only showing top 20 rows\n",
            "\n"
          ]
        }
      ]
    },
    {
      "cell_type": "code",
      "source": [
        "# 3. Show the distinct cars based on the number of cylinders\n",
        "df.select(\"Model\", \"Cyl\").distinct().show()"
      ],
      "metadata": {
        "colab": {
          "base_uri": "https://localhost:8080/"
        },
        "id": "rFmBqowbjavf",
        "outputId": "d646025d-3978-4346-c335-fcc88d67b1da"
      },
      "id": "rFmBqowbjavf",
      "execution_count": 95,
      "outputs": [
        {
          "output_type": "stream",
          "name": "stdout",
          "text": [
            "+------------------+---+\n",
            "|             Model|Cyl|\n",
            "+------------------+---+\n",
            "|         Merc 280C|  6|\n",
            "|    Toyota Corolla|  4|\n",
            "|Cadillac Fleetwood|  8|\n",
            "|        Merc 450SL|  8|\n",
            "| Chrysler Imperial|  8|\n",
            "|          Fiat 128|  4|\n",
            "|      Lotus Europa|  4|\n",
            "|     Mazda RX4 Wag|  6|\n",
            "|    Hornet 4 Drive|  6|\n",
            "|         Fiat X1-9|  4|\n",
            "|         Merc 240D|  4|\n",
            "|  Pontiac Firebird|  8|\n",
            "|        Camaro Z28|  8|\n",
            "|    Ford Pantera L|  8|\n",
            "|       AMC Javelin|  8|\n",
            "|       Merc 450SLC|  8|\n",
            "|     Porsche 914-2|  4|\n",
            "|        Merc 450SE|  8|\n",
            "|  Dodge Challenger|  8|\n",
            "|          Merc 280|  6|\n",
            "+------------------+---+\n",
            "only showing top 20 rows\n",
            "\n"
          ]
        }
      ]
    },
    {
      "cell_type": "code",
      "source": [
        "# 4. Sort the dataframe based on the milage of the car.\n",
        "df.sort(df['Mpg']).show()"
      ],
      "metadata": {
        "colab": {
          "base_uri": "https://localhost:8080/"
        },
        "id": "PoTHmhkYkGTC",
        "outputId": "294bdbb6-7f69-4ffd-bd48-e66a1668ab1f"
      },
      "id": "PoTHmhkYkGTC",
      "execution_count": 96,
      "outputs": [
        {
          "output_type": "stream",
          "name": "stdout",
          "text": [
            "+-------------------+----+---+-----+---+----+-----+-----+---+---+-----+----------------+\n",
            "|              Model| Mpg|Cyl| Disp| Hp|Drat|   Wt| Gsec| VS| Am|Gears|Carbon Emissions|\n",
            "+-------------------+----+---+-----+---+----+-----+-----+---+---+-----+----------------+\n",
            "| Cadillac Fleetwood|10.4|  8|472.0|205|2.93| 5.25|17.98|  0|  0|    3|               4|\n",
            "|Lincoln Continental|10.4|  8|460.0|215| 3.0|5.424|17.82|  0|  0|    3|               4|\n",
            "|         Camaro Z28|13.3|  8|350.0|245|3.73| 3.84|15.41|  0|  0|    3|               4|\n",
            "|         Duster 360|14.3|  8|360.0|245|3.21| 3.57|15.84|  0|  0|    3|               4|\n",
            "|  Chrysler Imperial|14.7|  8|440.0|230|3.23|5.345|17.42|  0|  0|    3|               4|\n",
            "|      Maserati Bora|15.0|  8|301.0|335|3.54| 3.57| 14.6|  0|  1|    5|               8|\n",
            "|        Merc 450SLC|15.2|  8|275.8|180|3.07| 3.78| 18.0|  0|  0|    3|               3|\n",
            "|        AMC Javelin|15.2|  8|304.0|150|3.15|3.435| 17.3|  0|  0|    3|               2|\n",
            "|   Dodge Challenger|15.5|  8|318.0|150|2.76| 3.52|16.87|  0|  0|    3|               2|\n",
            "|     Ford Pantera L|15.8|  8|351.0|264|4.22| 3.17| 14.5|  0|  1|    5|               4|\n",
            "|         Merc 450SE|16.4|  8|275.8|180|3.07| 4.07| 17.4|  0|  0|    3|               3|\n",
            "|         Merc 450SL|17.3|  8|275.8|180|3.07| 3.73| 17.6|  0|  0|    3|               3|\n",
            "|          Merc 280C|17.8|  6|167.6|123|3.92| 3.44| 18.9|  1|  0|    4|               4|\n",
            "|            Valiant|18.1|  6|225.0|105|2.76| 3.46|20.22|  1|  0|    3|               1|\n",
            "|  Hornet Sportabout|18.7|  8|360.0|175|3.15| 3.44|17.02|  0|  0|    3|               2|\n",
            "|           Merc 280|19.2|  6|167.6|123|3.92| 3.44| 18.3|  1|  0|    4|               4|\n",
            "|   Pontiac Firebird|19.2|  8|400.0|175|3.08|3.845|17.05|  0|  0|    3|               2|\n",
            "|       Ferrari Dino|19.7|  6|145.0|175|3.62| 2.77| 15.5|  0|  1|    5|               6|\n",
            "|          Mazda RX4|21.0|  6|160.0|110| 3.9| 2.62|16.46|  0|  1|    4|               4|\n",
            "|      Mazda RX4 Wag|21.0|  6|160.0|110| 3.9|2.875|17.02|  0|  1|    4|               4|\n",
            "+-------------------+----+---+-----+---+----+-----+-----+---+---+-----+----------------+\n",
            "only showing top 20 rows\n",
            "\n"
          ]
        }
      ]
    },
    {
      "cell_type": "code",
      "source": [
        "# 5. Your friend is planning to buy a new car in a pocket friendly manner. So allocate a score to all cars in your data frame\n",
        "#     Eg: - Create a column called `score`.\n",
        "#         - Come up with a formula that provides score, say :\n",
        "#                 - milage is important so 0.2 * value of milage + 0.5 * # of cyl ... so on\n",
        "score_df = df.withColumn(\"Score\", (0.2 * col(\"Mpg\")) +  (0.8 * col(\"Gears\")))\n",
        "score_df.show()"
      ],
      "metadata": {
        "colab": {
          "base_uri": "https://localhost:8080/"
        },
        "id": "7EiTuMYTkG8h",
        "outputId": "90656e2a-5c02-4974-9d48-faca62e8305d"
      },
      "id": "7EiTuMYTkG8h",
      "execution_count": 97,
      "outputs": [
        {
          "output_type": "stream",
          "name": "stdout",
          "text": [
            "+-------------------+----+---+-----+---+----+-----+-----+---+---+-----+----------------+-----------------+\n",
            "|              Model| Mpg|Cyl| Disp| Hp|Drat|   Wt| Gsec| VS| Am|Gears|Carbon Emissions|            Score|\n",
            "+-------------------+----+---+-----+---+----+-----+-----+---+---+-----+----------------+-----------------+\n",
            "|          Mazda RX4|21.0|  6|160.0|110| 3.9| 2.62|16.46|  0|  1|    4|               4|              7.4|\n",
            "|      Mazda RX4 Wag|21.0|  6|160.0|110| 3.9|2.875|17.02|  0|  1|    4|               4|              7.4|\n",
            "|         Datsun 710|22.8|  4|108.0| 93|3.85| 2.32|18.61|  1|  1|    4|               1| 7.75999984741211|\n",
            "|     Hornet 4 Drive|21.4|  6|258.0|110|3.08|3.215|19.44|  1|  0|    3|               1|6.679999923706055|\n",
            "|  Hornet Sportabout|18.7|  8|360.0|175|3.15| 3.44|17.02|  0|  0|    3|               2|6.140000152587891|\n",
            "|            Valiant|18.1|  6|225.0|105|2.76| 3.46|20.22|  1|  0|    3|               1|6.020000076293946|\n",
            "|         Duster 360|14.3|  8|360.0|245|3.21| 3.57|15.84|  0|  0|    3|               4|5.260000038146973|\n",
            "|          Merc 240D|24.4|  4|146.7| 62|3.69| 3.19| 20.0|  1|  0|    4|               2|8.079999923706055|\n",
            "|           Merc 230|22.8|  4|140.8| 95|3.92| 3.15| 22.9|  1|  0|    4|               2| 7.75999984741211|\n",
            "|           Merc 280|19.2|  6|167.6|123|3.92| 3.44| 18.3|  1|  0|    4|               4|7.040000152587891|\n",
            "|          Merc 280C|17.8|  6|167.6|123|3.92| 3.44| 18.9|  1|  0|    4|               4| 6.75999984741211|\n",
            "|         Merc 450SE|16.4|  8|275.8|180|3.07| 4.07| 17.4|  0|  0|    3|               3|5.679999923706055|\n",
            "|         Merc 450SL|17.3|  8|275.8|180|3.07| 3.73| 17.6|  0|  0|    3|               3| 5.85999984741211|\n",
            "|        Merc 450SLC|15.2|  8|275.8|180|3.07| 3.78| 18.0|  0|  0|    3|               3|5.439999961853028|\n",
            "| Cadillac Fleetwood|10.4|  8|472.0|205|2.93| 5.25|17.98|  0|  0|    3|               4|4.479999923706055|\n",
            "|Lincoln Continental|10.4|  8|460.0|215| 3.0|5.424|17.82|  0|  0|    3|               4|4.479999923706055|\n",
            "|  Chrysler Imperial|14.7|  8|440.0|230|3.23|5.345|17.42|  0|  0|    3|               4|5.339999961853028|\n",
            "|           Fiat 128|32.4|  4| 78.7| 66|4.08|  2.2|19.47|  1|  1|    4|               1|9.680000305175781|\n",
            "|        Honda Civic|30.4|  4| 75.7| 52|4.93|1.615|18.52|  1|  1|    4|               2|9.279999923706054|\n",
            "|     Toyota Corolla|33.9|  4| 71.1| 65|4.22|1.835| 19.9|  1|  1|    4|               1|9.980000305175782|\n",
            "+-------------------+----+---+-----+---+----+-----+-----+---+---+-----+----------------+-----------------+\n",
            "only showing top 20 rows\n",
            "\n"
          ]
        }
      ]
    },
    {
      "cell_type": "code",
      "source": [
        "# 6. Just for Fun add a new Row into the Data frame for Nano\n",
        "#  Details: Nano;Manual;25kmpl;2Cyl;\n",
        "\n",
        "new_row = Row('Nano', 621.0,6,160.0,110,3.9,2.62,16.46,0,1,4,4)\n",
        "\n",
        "new_df = spark.createDataFrame([new_row], [\"Model\",\"Mpg\",\"Cyl\",\"Disp\", \"Hp\",\"Drat\", \"Wt\", \"Gsec\", \"VS\", \"Am\",\"Gears\",\"Carbon Emissions\"])\n",
        "\n",
        "df = df.union(new_df)\n",
        "\n",
        "df.show()\n",
        "\n",
        "df.where(\"Model = 'Nano'\").show()"
      ],
      "metadata": {
        "colab": {
          "base_uri": "https://localhost:8080/"
        },
        "id": "duLwLKFukKDx",
        "outputId": "bac567c3-ee46-41d2-b6ad-80dbde1c7806"
      },
      "id": "duLwLKFukKDx",
      "execution_count": 100,
      "outputs": [
        {
          "output_type": "stream",
          "name": "stdout",
          "text": [
            "+-------------------+------------------+---+------------------+---+------------------+------------------+------------------+---+---+-----+----------------+\n",
            "|              Model|               Mpg|Cyl|              Disp| Hp|              Drat|                Wt|              Gsec| VS| Am|Gears|Carbon Emissions|\n",
            "+-------------------+------------------+---+------------------+---+------------------+------------------+------------------+---+---+-----+----------------+\n",
            "|          Mazda RX4|              21.0|  6|             160.0|110|3.9000000953674316| 2.619999885559082|16.459999084472656|  0|  1|    4|               4|\n",
            "|      Mazda RX4 Wag|              21.0|  6|             160.0|110|3.9000000953674316|             2.875|17.020000457763672|  0|  1|    4|               4|\n",
            "|         Datsun 710|22.799999237060547|  4|             108.0| 93|3.8499999046325684| 2.319999933242798|18.610000610351562|  1|  1|    4|               1|\n",
            "|     Hornet 4 Drive|21.399999618530273|  6|             258.0|110|3.0799999237060547|3.2149999141693115|19.440000534057617|  1|  0|    3|               1|\n",
            "|  Hornet Sportabout|18.700000762939453|  8|             360.0|175|3.1500000953674316| 3.440000057220459|17.020000457763672|  0|  0|    3|               2|\n",
            "|            Valiant|18.100000381469727|  6|             225.0|105| 2.759999990463257|3.4600000381469727|20.219999313354492|  1|  0|    3|               1|\n",
            "|         Duster 360|14.300000190734863|  8|             360.0|245|3.2100000381469727| 3.569999933242798| 15.84000015258789|  0|  0|    3|               4|\n",
            "|          Merc 240D|24.399999618530273|  4| 146.6999969482422| 62| 3.690000057220459| 3.190000057220459|              20.0|  1|  0|    4|               2|\n",
            "|           Merc 230|22.799999237060547|  4| 140.8000030517578| 95|3.9200000762939453|3.1500000953674316|22.899999618530273|  1|  0|    4|               2|\n",
            "|           Merc 280|19.200000762939453|  6|167.60000610351562|123|3.9200000762939453| 3.440000057220459|18.299999237060547|  1|  0|    4|               4|\n",
            "|          Merc 280C|17.799999237060547|  6|167.60000610351562|123|3.9200000762939453| 3.440000057220459|18.899999618530273|  1|  0|    4|               4|\n",
            "|         Merc 450SE|16.399999618530273|  8|275.79998779296875|180| 3.069999933242798| 4.070000171661377|17.399999618530273|  0|  0|    3|               3|\n",
            "|         Merc 450SL|17.299999237060547|  8|275.79998779296875|180| 3.069999933242798|3.7300000190734863|17.600000381469727|  0|  0|    3|               3|\n",
            "|        Merc 450SLC|15.199999809265137|  8|275.79998779296875|180| 3.069999933242798|3.7799999713897705|              18.0|  0|  0|    3|               3|\n",
            "| Cadillac Fleetwood|10.399999618530273|  8|             472.0|205| 2.930000066757202|              5.25|17.979999542236328|  0|  0|    3|               4|\n",
            "|Lincoln Continental|10.399999618530273|  8|             460.0|215|               3.0| 5.423999786376953| 17.81999969482422|  0|  0|    3|               4|\n",
            "|  Chrysler Imperial|14.699999809265137|  8|             440.0|230|3.2300000190734863|  5.34499979019165|17.420000076293945|  0|  0|    3|               4|\n",
            "|           Fiat 128|32.400001525878906|  4| 78.69999694824219| 66| 4.079999923706055| 2.200000047683716|19.469999313354492|  1|  1|    4|               1|\n",
            "|        Honda Civic|30.399999618530273|  4| 75.69999694824219| 52| 4.929999828338623|1.6150000095367432|18.520000457763672|  1|  1|    4|               2|\n",
            "|     Toyota Corolla|33.900001525878906|  4|  71.0999984741211| 65|  4.21999979019165|1.8350000381469727|19.899999618530273|  1|  1|    4|               1|\n",
            "+-------------------+------------------+---+------------------+---+------------------+------------------+------------------+---+---+-----+----------------+\n",
            "only showing top 20 rows\n",
            "\n",
            "+-----+-----+---+-----+---+----+----+-----+---+---+-----+----------------+\n",
            "|Model|  Mpg|Cyl| Disp| Hp|Drat|  Wt| Gsec| VS| Am|Gears|Carbon Emissions|\n",
            "+-----+-----+---+-----+---+----+----+-----+---+---+-----+----------------+\n",
            "| Nano|621.0|  6|160.0|110| 3.9|2.62|16.46|  0|  1|    4|               4|\n",
            "| Nano|621.0|  6|160.0|110| 3.9|2.62|16.46|  0|  1|    4|               4|\n",
            "+-----+-----+---+-----+---+----+----+-----+---+---+-----+----------------+\n",
            "\n"
          ]
        }
      ]
    }
  ],
  "metadata": {
    "kernelspec": {
      "display_name": "pii",
      "language": "python",
      "name": "pii"
    },
    "language_info": {
      "codemirror_mode": {
        "name": "ipython",
        "version": 3
      },
      "file_extension": ".py",
      "mimetype": "text/x-python",
      "name": "python",
      "nbconvert_exporter": "python",
      "pygments_lexer": "ipython3",
      "version": "3.10.12"
    },
    "colab": {
      "provenance": []
    }
  },
  "nbformat": 4,
  "nbformat_minor": 5
}